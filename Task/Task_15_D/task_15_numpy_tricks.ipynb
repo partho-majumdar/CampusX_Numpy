{
 "cells": [
  {
   "cell_type": "markdown",
   "metadata": {
    "id": "J88qfqQEk_sT"
   },
   "source": [
    "###`Q-1:` Create a random 3x4 matrix with value between 0-100. And perform below tasks\n",
    "\n",
    "    i. Sort this matrix. np.sort()\n",
    "    ii. Sort this matrix based on values in 2nd column.\n",
    "    iii. Sort this matrix based on max value in each row.\n",
    "    iv. Sort based on elements value.\n"
   ]
  },
  {
   "cell_type": "markdown",
   "metadata": {
    "id": "xpOwOdhqlE9R"
   },
   "source": [
    "See examples:\n",
    "```\n",
    "arr =\n",
    "    [[92 90 74]\n",
    "    [ 6 63 93]\n",
    "    [15 93 96]\n",
    "    [70 60 48]]\n",
    "```\n",
    "```\n",
    "i. np.sort\n",
    "[[74 90 92]\n",
    " [ 6 63 93]\n",
    " [15 93 96]\n",
    " [48 60 70]]\n",
    "\n",
    "ii. based on 2nd column\n",
    "[[70 60 48]\n",
    " [ 6 63 93]\n",
    " [92 90 74]\n",
    " [15 93 96]]\n",
    "\n",
    "iii. based on row max- ascending\n",
    "[[15 93 96]\n",
    " [ 6 63 93]\n",
    " [92 90 74]\n",
    " [70 60 48]]\n",
    "\n",
    "iv. based on elements value\n",
    "[[ 6 15 48]\n",
    " [60 63 70]\n",
    " [74 90 92]\n",
    " [93 93 96]]\n",
    "\n",
    "```"
   ]
  },
  {
   "cell_type": "code",
   "execution_count": 8,
   "metadata": {
    "id": "Auy-guUwlALv"
   },
   "outputs": [
    {
     "name": "stdout",
     "output_type": "stream",
     "text": [
      "[[81 98 51]\n",
      " [55 18 72]\n",
      " [69  0 75]\n",
      " [22 31  5]]\n",
      "[[51 81 98]\n",
      " [18 55 72]\n",
      " [ 0 69 75]\n",
      " [ 5 22 31]]\n",
      "[[ 0  5 18]\n",
      " [22 31 51]\n",
      " [55 69 72]\n",
      " [75 81 98]]\n"
     ]
    }
   ],
   "source": [
    "# code here\n",
    "import numpy as np\n",
    "\n",
    "arr = np.random.randint(0, 100, (4, 3))\n",
    "print(arr)\n",
    "print(np.sort(arr))\n",
    "arr[arr[:, 1].argsort()]\n",
    "print(np.sort(arr, axis = None).reshape(4, 3))"
   ]
  },
  {
   "cell_type": "markdown",
   "metadata": {
    "id": "Jx_I3gx9lBay"
   },
   "source": [
    "###`Q-2:` There is an array of marks of 5 students in 4 subjects. Further you are asked to perform below task.\n",
    "    i. Add marks every student of an extra subject in the same array.\n",
    "    ii. Add two new students marks in respective 5 subjects.(one subject added in above task)\n",
    "    iii. Add extra column with sum of all subjects(5-subjects) marks\n",
    "    iv. Sort the array(non-ascending order) on total marks column--one added in above task. Show top 2 rows.\n",
    "\n",
    "Note: Change dimension of arrays during concatenation or appending if required."
   ]
  },
  {
   "cell_type": "markdown",
   "metadata": {
    "id": "lXF-CE6ylNIw"
   },
   "source": [
    "Given Array-\n",
    "```\n",
    "marks = [[13, 10,  9, 33],\n",
    "       [63, 46, 90, 42],\n",
    "       [39, 76, 13, 29],\n",
    "       [82,  9, 29, 78],\n",
    "       [67, 61, 59, 36]]\n",
    "\n",
    "extra_subject = [41, 87, 72, 36, 92]\n",
    "#Two extra students record-\n",
    "rec1 = [77, 83, 98, 95, 89]\n",
    "rec2 = [92, 71, 52, 61, 53]\n",
    "```"
   ]
  },
  {
   "cell_type": "code",
   "execution_count": 18,
   "metadata": {
    "id": "7YKsWO2olMkq"
   },
   "outputs": [
    {
     "data": {
      "text/plain": [
       "array([[ 13,  10,   9,  33,  41, 106],\n",
       "       [ 63,  46,  90,  42,  87, 328],\n",
       "       [ 39,  76,  13,  29,  72, 229],\n",
       "       [ 82,   9,  29,  78,  36, 234],\n",
       "       [ 67,  61,  59,  36,  92, 315],\n",
       "       [ 77,  83,  98,  95,  89, 442],\n",
       "       [ 92,  71,  52,  61,  53, 329]])"
      ]
     },
     "execution_count": 18,
     "metadata": {},
     "output_type": "execute_result"
    }
   ],
   "source": [
    "# code here\n",
    "marks = np.array([[13, 10,  9, 33],\n",
    "       [63, 46, 90, 42],\n",
    "       [39, 76, 13, 29],\n",
    "       [82,  9, 29, 78],\n",
    "       [67, 61, 59, 36]])\n",
    "\n",
    "extra_sub = np.array([41, 87, 72, 36, 92]).reshape(-1, 1)\n",
    "marks1 = np.hstack((marks, extra_sub))\n",
    "\n",
    "rec1 = np.array([77, 83, 98, 95, 89]).reshape(1, -1)\n",
    "rec2 = np.array([92, 71, 52, 61, 53]).reshape(1, -1)\n",
    "marks2 = np.vstack((marks1, rec1, rec2))\n",
    "\n",
    "sum_student = marks2.sum(axis = 1, keepdims = True)\n",
    "marks3 = np.hstack((marks2, sum_student))\n",
    "marks3"
   ]
  },
  {
   "cell_type": "markdown",
   "metadata": {
    "id": "VmOyK_8klRqR"
   },
   "source": [
    "###`Q-3:` Find unique arrays from a 2D array column wise and row wise.\n",
    "```\n",
    "arr = np.array([[1,2,3,3,1,1],\n",
    "                [0,9,1,2,8,8],\n",
    "                [1,2,3,8,8,8],\n",
    "                [1,2,3,3,1,1]])\n",
    "```\n",
    "Expected Result-\n",
    "```\n",
    "Row Wise\n",
    "[[0 9 1 2 8 8]\n",
    " [1 2 3 3 1 1]\n",
    " [1 2 3 8 8 8]]\n",
    "\n",
    "Col Wise\n",
    "[[1 1 2 3 3]\n",
    " [0 8 9 1 2]\n",
    " [1 8 2 3 8]\n",
    " [1 1 2 3 3]]\n",
    "```"
   ]
  },
  {
   "cell_type": "code",
   "execution_count": 19,
   "metadata": {
    "id": "LJl10VQrlU5q"
   },
   "outputs": [
    {
     "name": "stdout",
     "output_type": "stream",
     "text": [
      "[[0 9 1 2 8 8]\n",
      " [1 2 3 3 1 1]\n",
      " [1 2 3 8 8 8]]\n",
      "[[1 1 2 3 3]\n",
      " [0 8 9 1 2]\n",
      " [1 8 2 3 8]\n",
      " [1 1 2 3 3]]\n"
     ]
    }
   ],
   "source": [
    "# code here\n",
    "arr = np.array([[1,2,3,3,1,1],\n",
    "                [0,9,1,2,8,8],\n",
    "                [1,2,3,8,8,8],\n",
    "                [1,2,3,3,1,1]])\n",
    "\n",
    "print(np.unique(arr, axis = 0))\n",
    "print(np.unique(arr, axis = 1))"
   ]
  },
  {
   "cell_type": "markdown",
   "metadata": {
    "id": "RaXwVkywlWY2"
   },
   "source": [
    "###`Q-4:` Flip given 2-D array along both axes at the same time."
   ]
  },
  {
   "cell_type": "code",
   "execution_count": null,
   "metadata": {
    "id": "mN7-4G8Kleeq"
   },
   "outputs": [
    {
     "data": {
      "text/plain": [
       "array([[-1,  8, -2, 14, 19, 10],\n",
       "       [ 7, 11,  2,  1,  6,  0],\n",
       "       [ 1,  1,  3,  3,  2,  1],\n",
       "       [ 8,  8,  8,  3,  2,  1],\n",
       "       [ 8,  8,  2,  1,  9,  0],\n",
       "       [ 1,  1,  3,  3,  2,  1]])"
      ]
     },
     "execution_count": 22,
     "metadata": {},
     "output_type": "execute_result"
    }
   ],
   "source": [
    "# code here\n",
    "arr = np.array([[1,2,3,3,1,1],\n",
    "               [0,9,1,2,8,8],\n",
    "               [1,2,3,8,8,8],\n",
    "               [1,2,3,3,1,1],\n",
    "               [0,6,1,2,11,7],\n",
    "               [10,19,14,-2,8,-1]])\n",
    "\n",
    "np.flip(arr, axis = [0, 1])"
   ]
  },
  {
   "cell_type": "markdown",
   "metadata": {
    "id": "X0S7BUNTlfoq"
   },
   "source": [
    "### `Q-5:` Get row numbers of NumPy array having element larger than X.\n",
    "```\n",
    "arr = [[1,2,3,4,5],\n",
    "      [10,-3,30,4,5],\n",
    "      [3,2,5,-4,5],\n",
    "      [9,7,3,6,5]]\n",
    "\n",
    "X = 6\n",
    "```"
   ]
  },
  {
   "cell_type": "code",
   "execution_count": 26,
   "metadata": {
    "id": "bi8jRmWhlkBU"
   },
   "outputs": [
    {
     "data": {
      "text/plain": [
       "(array([1, 3]),)"
      ]
     },
     "execution_count": 26,
     "metadata": {},
     "output_type": "execute_result"
    }
   ],
   "source": [
    "# code here\n",
    "arr = np.array(\n",
    "    [[1,2,3,4,5], \n",
    "      [10,-3,30,4,5], \n",
    "      [3,2,5,-4,5], \n",
    "      [9,7,3,6,5]]\n",
    "    )\n",
    "x = 6\n",
    "np.where(np.any(arr > x, axis = 1))"
   ]
  },
  {
   "cell_type": "markdown",
   "metadata": {
    "id": "DSCQMo4mlnDG"
   },
   "source": [
    "### `Q-6:` How to convert an array of arrays into a flat 1d array?\n"
   ]
  },
  {
   "cell_type": "code",
   "execution_count": null,
   "metadata": {
    "id": "QZhSkUT2lsJW"
   },
   "outputs": [],
   "source": [
    "# These arrays are given.\n",
    "arr1 = np.arange(3)\n",
    "arr2 = np.arange(3,7)\n",
    "arr3 = np.arange(7,10)"
   ]
  },
  {
   "cell_type": "code",
   "execution_count": 30,
   "metadata": {
    "id": "f42OXNrFls0I"
   },
   "outputs": [
    {
     "name": "stdout",
     "output_type": "stream",
     "text": [
      "[0 1 2 3 4 5 6 7 8 9]\n"
     ]
    }
   ],
   "source": [
    "# code here\n",
    "arr1 = np.arange(3)\n",
    "arr2 = np.arange(3,7)\n",
    "arr3 = np.arange(7,10)\n",
    "\n",
    "ans = np.hstack((arr1, arr2, arr3))\n",
    "print(ans)"
   ]
  },
  {
   "cell_type": "markdown",
   "metadata": {
    "id": "A1J4oOVCluqO"
   },
   "source": [
    "### `Q-7:` You are given a array. You have to find the minimum and maximum array element and remove that from the array.\n",
    "\n",
    "```python\n",
    "import numpy as np\n",
    "\n",
    "np.random.seed(400)\n",
    "arr = np.random.randint(100, 1000, 200).reshape((1, 200))\n",
    "```"
   ]
  },
  {
   "cell_type": "code",
   "execution_count": null,
   "metadata": {
    "id": "c6kmgtUJlybZ"
   },
   "outputs": [
    {
     "name": "stdout",
     "output_type": "stream",
     "text": [
      "[[448 563 418 240 507 362 345 236 719 291 298 639 458 387 262 613 267 882\n",
      "  181 425 790 635 889 818 872 967 277 470 336 920 917 295 557 830 506 385\n",
      "  353 975 592 997 137 340 222 215 472 459 617 649 935 956 914 932 645 952\n",
      "  921 490 527 972 278 307 840 958 246 449 251 957 103 627 920 824 356 825\n",
      "  173 323 372 960 710 464 244 782 763 635 436 774 171 469 178 458 624 211\n",
      "  771 270 308 231 952 514 699 702 433 900 373 318 998 265 503 320 230 324\n",
      "  922 967 620 743 527 117 566 804 123 946 587 227 853 757 944 328 855 930\n",
      "  325 729 426 514 296 879 575 936 705 209 191 743 510 513 628 559 658 528\n",
      "  395 525 922 136 496 225 895 975 263 908 420 711 800 976 786 235 930 859\n",
      "  618 226 695 460 218 483 490 803 621 453 193 607 677 637 728 724 534 748\n",
      "  291 194 761 875 687 569 228 482 781 554 654 739 885 197 266 228 892 207\n",
      "  883 588]]\n",
      "998 103\n",
      "998 117\n"
     ]
    }
   ],
   "source": [
    "# code here\n",
    "\n",
    "np.random.seed(400)\n",
    "arr = np.random.randint(100, 1000, 200).reshape((1, 200))\n",
    "print(arr)\n",
    "\n",
    "max_arr = arr.argmax()\n",
    "min_arr = arr.argmin()\n",
    "\n",
    "print(arr.max(), arr.min())\n",
    "\n",
    "arr = np.delete(arr, min_arr, axis = 1)\n",
    "arr = np.delete(arr, max_arr, axis = 1)\n",
    "\n",
    "print(arr.max(), arr.min())"
   ]
  },
  {
   "cell_type": "markdown",
   "metadata": {
    "id": "0dHN1sdnl0Jy"
   },
   "source": [
    "### `Q-8:` You are given an arrays. You have to limit this array's elements between 100 to 200. $arr ∈ [100, 700]$. So replace those values accordingly with the minimum and maximum value. Then sort the array and perform the cumulative sum of that array."
   ]
  },
  {
   "cell_type": "code",
   "execution_count": 67,
   "metadata": {
    "id": "a3YF_E-Hlza7"
   },
   "outputs": [
    {
     "data": {
      "text/plain": [
       "array([  100,   200,   300,   400,   500,   600,   700,   800,   900,\n",
       "        1000,  1100,  1200,  1300,  1400,  1500,  1600,  1700,  1800,\n",
       "        1900,  2000,  2100,  2224,  2350,  2478,  2614,  2751,  2892,\n",
       "        3035,  3180,  3330,  3482,  3640,  3803,  3966,  4142,  4321,\n",
       "        4505,  4693,  4883,  5082,  5282,  5482,  5682,  5882,  6082,\n",
       "        6282,  6482,  6682,  6882,  7082,  7282,  7482,  7682,  7882,\n",
       "        8082,  8282,  8482,  8682,  8882,  9082,  9282,  9482,  9682,\n",
       "        9882, 10082, 10282, 10482, 10682, 10882, 11082, 11282, 11482,\n",
       "       11682, 11882, 12082, 12282, 12482, 12682, 12882, 13082, 13282,\n",
       "       13482, 13682, 13882, 14082, 14282, 14482, 14682, 14882, 15082,\n",
       "       15282, 15482, 15682, 15882, 16082, 16282, 16482, 16682, 16882,\n",
       "       17082, 17282, 17482, 17682, 17882, 18082, 18282, 18482, 18682,\n",
       "       18882, 19082, 19282, 19482, 19682, 19882, 20082, 20282, 20482,\n",
       "       20682, 20882, 21082, 21282, 21482, 21682, 21882, 22082, 22282,\n",
       "       22482, 22682, 22882, 23082, 23282, 23482, 23682, 23882, 24082,\n",
       "       24282, 24482, 24682, 24882, 25082, 25282, 25482, 25682, 25882,\n",
       "       26082, 26282, 26482, 26682, 26882, 27082, 27282, 27482, 27682,\n",
       "       27882, 28082, 28282, 28482, 28682, 28882, 29082, 29282, 29482,\n",
       "       29682, 29882, 30082, 30282, 30482, 30682, 30882, 31082, 31282,\n",
       "       31482, 31682, 31882, 32082, 32282, 32482, 32682, 32882, 33082,\n",
       "       33282, 33482, 33682, 33882, 34082, 34282, 34482, 34682, 34882,\n",
       "       35082, 35282, 35482, 35682, 35882, 36082, 36282, 36482, 36682,\n",
       "       36882, 37082, 37282, 37482, 37682, 37882, 38082, 38282, 38482,\n",
       "       38682, 38882, 39082, 39282, 39482, 39682, 39882, 40082, 40282,\n",
       "       40482, 40682, 40882, 41082, 41282, 41482, 41682, 41882, 42082,\n",
       "       42282, 42482, 42682, 42882, 43082, 43282, 43482, 43682, 43882,\n",
       "       44082, 44282, 44482, 44682, 44882, 45082, 45282, 45482, 45682,\n",
       "       45882, 46082, 46282, 46482, 46682, 46882, 47082, 47282, 47482,\n",
       "       47682, 47882, 48082, 48282, 48482, 48682, 48882, 49082, 49282,\n",
       "       49482, 49682, 49882, 50082, 50282, 50482, 50682, 50882, 51082,\n",
       "       51282, 51482, 51682, 51882, 52082, 52282, 52482, 52682, 52882,\n",
       "       53082, 53282, 53482, 53682, 53882, 54082, 54282, 54482, 54682,\n",
       "       54882, 55082, 55282, 55482, 55682, 55882, 56082, 56282, 56482,\n",
       "       56682, 56882, 57082, 57282, 57482, 57682, 57882, 58082, 58282,\n",
       "       58482, 58682, 58882, 59082, 59282, 59482, 59682, 59882, 60082,\n",
       "       60282, 60482, 60682, 60882, 61082, 61282, 61482, 61682, 61882,\n",
       "       62082, 62282, 62482, 62682, 62882, 63082, 63282, 63482, 63682,\n",
       "       63882, 64082, 64282, 64482, 64682, 64882, 65082, 65282, 65482,\n",
       "       65682, 65882, 66082, 66282, 66482, 66682, 66882, 67082, 67282,\n",
       "       67482, 67682, 67882, 68082, 68282, 68482, 68682, 68882, 69082,\n",
       "       69282, 69482, 69682, 69882, 70082, 70282, 70482, 70682, 70882,\n",
       "       71082, 71282, 71482, 71682, 71882, 72082, 72282, 72482, 72682,\n",
       "       72882, 73082, 73282, 73482, 73682, 73882, 74082, 74282, 74482,\n",
       "       74682, 74882, 75082, 75282, 75482, 75682, 75882, 76082, 76282,\n",
       "       76482, 76682, 76882, 77082, 77282, 77482, 77682, 77882, 78082,\n",
       "       78282, 78482, 78682, 78882, 79082, 79282, 79482, 79682, 79882,\n",
       "       80082, 80282, 80482, 80682, 80882, 81082, 81282, 81482, 81682,\n",
       "       81882, 82082, 82282, 82482, 82682, 82882, 83082, 83282, 83482,\n",
       "       83682, 83882, 84082, 84282, 84482, 84682, 84882, 85082, 85282,\n",
       "       85482, 85682, 85882, 86082, 86282, 86482, 86682, 86882, 87082,\n",
       "       87282, 87482, 87682, 87882, 88082, 88282, 88482, 88682, 88882,\n",
       "       89082, 89282, 89482, 89682, 89882, 90082, 90282, 90482, 90682,\n",
       "       90882, 91082, 91282, 91482, 91682, 91882, 92082, 92282, 92482,\n",
       "       92682, 92882, 93082, 93282, 93482, 93682, 93882, 94082, 94282,\n",
       "       94482, 94682, 94882, 95082, 95282, 95482, 95682, 95882, 96082,\n",
       "       96282, 96482, 96682, 96882, 97082])"
      ]
     },
     "execution_count": 67,
     "metadata": {},
     "output_type": "execute_result"
    }
   ],
   "source": [
    "# code here\n",
    "arr = np.random.randint(0, 2000, 500)\n",
    "np.cumsum(np.sort(np.clip(arr, 100, 200)))"
   ]
  },
  {
   "cell_type": "markdown",
   "metadata": {
    "id": "cXj90Susl4-I"
   },
   "source": [
    "### `Q-9:` You are given a array ($arr ∈ [0, 1]$). First you have round off the elements upto 3 decimal places and compare that\n",
    "- 0th percentile == minimum value of the array\n",
    "- 100th percentile == maximum value of the array\n",
    "- also find the difference betwen 51th percenile and 50th percentile values"
   ]
  },
  {
   "cell_type": "code",
   "execution_count": 80,
   "metadata": {
    "id": "SgBEHodgl7Lo"
   },
   "outputs": [
    {
     "name": "stdout",
     "output_type": "stream",
     "text": [
      "0th percentile: True\n",
      "100th percentile: True\n",
      "Diff percentile: 0.020360000000000156\n"
     ]
    }
   ],
   "source": [
    "# code here\n",
    "arr = np.random.random(100)\n",
    "arr = np.round(arr, decimals = 3)\n",
    "\n",
    "print(\"0th percentile:\", np.percentile(arr, 0) == arr.min())\n",
    "print(\"100th percentile:\", np.percentile(arr, 100) == arr.max())\n",
    "print(\"Diff percentile:\", (np.percentile(arr, 51)) - (np.percentile(arr, 50)))\n",
    "                           \n"
   ]
  }
 ],
 "metadata": {
  "colab": {
   "provenance": []
  },
  "kernelspec": {
   "display_name": "Python 3",
   "name": "python3"
  },
  "language_info": {
   "codemirror_mode": {
    "name": "ipython",
    "version": 3
   },
   "file_extension": ".py",
   "mimetype": "text/x-python",
   "name": "python",
   "nbconvert_exporter": "python",
   "pygments_lexer": "ipython3",
   "version": "3.12.5"
  }
 },
 "nbformat": 4,
 "nbformat_minor": 0
}
