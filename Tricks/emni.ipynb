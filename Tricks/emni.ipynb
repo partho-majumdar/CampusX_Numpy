{
 "cells": [
  {
   "cell_type": "code",
   "execution_count": 1,
   "metadata": {},
   "outputs": [],
   "source": [
    "import numpy as np # type: ignore"
   ]
  },
  {
   "cell_type": "code",
   "execution_count": null,
   "metadata": {},
   "outputs": [
    {
     "name": "stdout",
     "output_type": "stream",
     "text": [
      "[[31  8 79 20]\n",
      " [20 38 34 90]\n",
      " [64 55 12 89]\n",
      " [39 20  3 53]\n",
      " [98  5 85 74]\n",
      " [66 42 54 56]]\n"
     ]
    },
    {
     "data": {
      "text/plain": [
       "array([[ 8, 20, 31, 79],\n",
       "       [20, 34, 38, 90],\n",
       "       [12, 55, 64, 89],\n",
       "       [ 3, 20, 39, 53],\n",
       "       [ 5, 74, 85, 98],\n",
       "       [42, 54, 56, 66]], dtype=int32)"
      ]
     },
     "execution_count": 2,
     "metadata": {},
     "output_type": "execute_result"
    }
   ],
   "source": [
    "# Sorting\n",
    "\n",
    "a = np.random.randint(1, 100, 15)\n",
    "b = np.random.randint(1, 100, 24).reshape(6, 4)\n",
    "\n",
    "np.sort(a) # sort in ascending\n",
    "np.sort(a)[::-1] # sort in descending\n",
    "\n",
    "np.sort(b) # row wise sorting\n",
    "print(b)\n",
    "np.sort(b, axis = 0) # row wise sorting\n",
    "np.sort(b, axis = 1) # col wise sorting"
   ]
  },
  {
   "cell_type": "code",
   "execution_count": 3,
   "metadata": {},
   "outputs": [
    {
     "name": "stdout",
     "output_type": "stream",
     "text": [
      "6\n"
     ]
    },
    {
     "data": {
      "text/plain": [
       "array([[91., 85., 10., 56.,  1.],\n",
       "       [94., 97., 82., 19.,  1.],\n",
       "       [72., 45., 61., 22.,  1.],\n",
       "       [48., 62.,  1.,  2.,  1.],\n",
       "       [83., 72., 63., 44.,  1.],\n",
       "       [43., 15., 62., 65.,  1.]])"
      ]
     },
     "execution_count": 3,
     "metadata": {},
     "output_type": "execute_result"
    }
   ],
   "source": [
    "# Append\n",
    "\n",
    "a = np.random.randint(1, 100, 15)\n",
    "b = np.random.randint(1, 100, 24).reshape(6, 4)\n",
    "\n",
    "np.append(a, 202) # append 202 as last element in a \n",
    "print(b.shape[0])\n",
    "np.append(b, np.ones((b.shape[0], 1)), axis = 1) # append 1 in last col"
   ]
  },
  {
   "cell_type": "code",
   "execution_count": 4,
   "metadata": {},
   "outputs": [
    {
     "name": "stdout",
     "output_type": "stream",
     "text": [
      "[[0 1 2]\n",
      " [3 4 5]]\n",
      "[[ 6  7  8]\n",
      " [ 9 10 11]]\n"
     ]
    },
    {
     "data": {
      "text/plain": [
       "array([[ 0,  1,  2,  6,  7,  8],\n",
       "       [ 3,  4,  5,  9, 10, 11]])"
      ]
     },
     "execution_count": 4,
     "metadata": {},
     "output_type": "execute_result"
    }
   ],
   "source": [
    "# Concatenate\n",
    "\n",
    "a = np.arange(6).reshape(2, 3)\n",
    "b = np.arange(6, 12).reshape(2, 3)\n",
    "\n",
    "print(a)\n",
    "print(b)\n",
    "\n",
    "np.concatenate((a, b), axis = 0) # row wise -> vstack\n",
    "np.concatenate((a, b), axis = 1) # col wise -> hstack"
   ]
  },
  {
   "cell_type": "code",
   "execution_count": 5,
   "metadata": {},
   "outputs": [
    {
     "data": {
      "text/plain": [
       "array([1, 2, 3, 4, 5, 6, 7, 9])"
      ]
     },
     "execution_count": 5,
     "metadata": {},
     "output_type": "execute_result"
    }
   ],
   "source": [
    "# Unique item\n",
    "\n",
    "a = np.array([1, 2, 1, 2, 4, 5, 6, 5, 7, 9, 7, 3, 2])\n",
    "np.unique(a)"
   ]
  },
  {
   "cell_type": "code",
   "execution_count": 6,
   "metadata": {},
   "outputs": [
    {
     "name": "stdout",
     "output_type": "stream",
     "text": [
      "[[1 2]\n",
      " [3 4]\n",
      " [5 6]]\n",
      "\n",
      "\n",
      "[[[1 2]\n",
      "  [3 4]\n",
      "  [5 6]]]\n",
      "\n",
      "\n",
      "[[[1 2]]\n",
      "\n",
      " [[3 4]]\n",
      "\n",
      " [[5 6]]]\n"
     ]
    }
   ],
   "source": [
    "# Expand dimension\n",
    "\n",
    "a = np.arange(1, 7).reshape(3, 2)\n",
    "print(a)\n",
    "print('\\n')\n",
    "b = np.expand_dims(a, axis = 0)\n",
    "c = np.expand_dims(a, axis = 1)\n",
    "# print(a.shape, b.shape)\n",
    "\n",
    "print(b)\n",
    "print('\\n')\n",
    "print(c)"
   ]
  },
  {
   "cell_type": "code",
   "execution_count": 7,
   "metadata": {},
   "outputs": [
    {
     "data": {
      "text/plain": [
       "array([1, 1, 0, 1, 0, 1, 0, 0, 0, 0, 1, 0, 1, 0, 1, 0, 0, 0, 1, 1])"
      ]
     },
     "execution_count": 7,
     "metadata": {},
     "output_type": "execute_result"
    }
   ],
   "source": [
    "# Where value satisfy\n",
    "\n",
    "a = np.random.randint(1, 100, 20)\n",
    "np.where(a > 50) # return index only value > 50\n",
    "np.where(a > 50, 0, 1) # replace 0 where true and replace 1 where false"
   ]
  },
  {
   "cell_type": "code",
   "execution_count": 8,
   "metadata": {},
   "outputs": [
    {
     "name": "stdout",
     "output_type": "stream",
     "text": [
      "[ 3  4 62 83 59 48 22 91 74 86]\n",
      "[[ 2 13 76 55]\n",
      " [96 12 82  4]\n",
      " [ 2 94  8 17]]\n"
     ]
    },
    {
     "data": {
      "text/plain": [
       "array([0, 3, 0])"
      ]
     },
     "execution_count": 8,
     "metadata": {},
     "output_type": "execute_result"
    }
   ],
   "source": [
    "# Argmax / Argmin -> return max/min value index\n",
    "\n",
    "a = np.random.randint(1, 100, 10)\n",
    "b = np.random.randint(1, 100, 12).reshape(3, 4)\n",
    "print(a)\n",
    "print(b)\n",
    "np.argmax(a) # max value index\n",
    "np.argmin(a) # min value index\n",
    "\n",
    "np.argmax(b, axis = 0)\n",
    "np.argmin(b, axis = 1)"
   ]
  },
  {
   "cell_type": "code",
   "execution_count": 9,
   "metadata": {},
   "outputs": [
    {
     "name": "stdout",
     "output_type": "stream",
     "text": [
      "[42  1 11 76 61 54  6  5 31 37]\n",
      "[[21 52 74 63]\n",
      " [78 73 55 96]\n",
      " [64 63 56 27]]\n"
     ]
    },
    {
     "data": {
      "text/plain": [
       "array([[      21,     1092,    80808,  5090904],\n",
       "       [      78,     5694,   313170, 30064320],\n",
       "       [      64,     4032,   225792,  6096384]])"
      ]
     },
     "execution_count": 9,
     "metadata": {},
     "output_type": "execute_result"
    }
   ],
   "source": [
    "# Cumsum & Cumprod -> sum of previous all\n",
    "\n",
    "a = np.random.randint(1, 100, 10)\n",
    "b = np.random.randint(1, 100, 12).reshape(3, 4)\n",
    "print(a)\n",
    "print(b)\n",
    "\n",
    "np.cumsum(a)\n",
    "np.cumprod(a)\n",
    "\n",
    "np.cumsum(b, axis = 0) # row\n",
    "np.cumprod(b, axis = 1) # col"
   ]
  },
  {
   "cell_type": "code",
   "execution_count": 10,
   "metadata": {},
   "outputs": [
    {
     "name": "stdout",
     "output_type": "stream",
     "text": [
      "[35 63 38 91 42 98 53 96 65 32]\n",
      "[32 35 38 42 53 63 65 91 96 98]\n"
     ]
    },
    {
     "data": {
      "text/plain": [
       "np.float64(98.0)"
      ]
     },
     "execution_count": 10,
     "metadata": {},
     "output_type": "execute_result"
    }
   ],
   "source": [
    "# Percentile -> how many % people behind me\n",
    "\n",
    "a = np.random.randint(1, 100, 10)\n",
    "print(a)\n",
    "\n",
    "print(np.sort(a))\n",
    "np.percentile(a, 0) # min\n",
    "np.percentile(a, 50) # mid\n",
    "np.percentile(a, 100) # max"
   ]
  },
  {
   "cell_type": "code",
   "execution_count": 11,
   "metadata": {},
   "outputs": [
    {
     "name": "stdout",
     "output_type": "stream",
     "text": [
      "[84 55 79 53 88 49 12 77 62 37 34 52 50 22 87 22 91 12 52 30 61 16 85 40\n",
      " 80 40 99 16 39 37  6 78 39 43 90 98 26 34 27 93 66 69 56 43 76 88 40 19\n",
      " 96 37]\n"
     ]
    },
    {
     "data": {
      "text/plain": [
       "(array([1, 5, 4, 8, 6, 6, 4, 4, 6, 6]),\n",
       " array([  0,  10,  20,  30,  40,  50,  60,  70,  80,  90, 100]))"
      ]
     },
     "execution_count": 11,
     "metadata": {},
     "output_type": "execute_result"
    }
   ],
   "source": [
    "# Histogram -> frequency count in given range (bins)\n",
    "    \n",
    "a = np.random.randint(1, 100, 50)\n",
    "print(a)\n",
    "np.histogram(a, bins = [0, 10, 20, 30, 40, 50, 60, 70, 80, 90, 100])"
   ]
  },
  {
   "cell_type": "code",
   "execution_count": 12,
   "metadata": {},
   "outputs": [
    {
     "data": {
      "text/plain": [
       "array([[1.        , 0.25344572],\n",
       "       [0.25344572, 1.        ]])"
      ]
     },
     "execution_count": 12,
     "metadata": {},
     "output_type": "execute_result"
    }
   ],
   "source": [
    "# Corelation (ans lie in -1 to 1) & Coefficient\n",
    "\n",
    "salary = np.array([20000, 40000, 25000, 35000, 60000])\n",
    "experience = np.array([1, 3, 2, 4, 2])\n",
    "\n",
    "np.corrcoef(salary, experience)"
   ]
  },
  {
   "cell_type": "code",
   "execution_count": 13,
   "metadata": {},
   "outputs": [
    {
     "name": "stdout",
     "output_type": "stream",
     "text": [
      "[82 66  9 53 83 75 87 30 33 60 62 86 25 49 68 79 46 70 98 45]\n",
      "[10 20 30 40 50 60 70]\n"
     ]
    },
    {
     "data": {
      "text/plain": [
       "array([30, 60, 70], dtype=int32)"
      ]
     },
     "execution_count": 13,
     "metadata": {},
     "output_type": "execute_result"
    }
   ],
   "source": [
    "# Isin -> search for multiple item\n",
    "\n",
    "a = np.random.randint(1, 100, 20);\n",
    "items = np.array([10, 20, 30, 40, 50, 60, 70])\n",
    "\n",
    "print(a)\n",
    "print(items)\n",
    "np.isin(a, items)\n",
    "a[np.isin(a, items)]"
   ]
  },
  {
   "cell_type": "code",
   "execution_count": 14,
   "metadata": {},
   "outputs": [
    {
     "name": "stdout",
     "output_type": "stream",
     "text": [
      "[62 55 79 25 97 46 54 98 61 70]\n",
      "[[66 24 47 59]\n",
      " [78 91 36 83]\n",
      " [90 74 79 22]]\n"
     ]
    },
    {
     "data": {
      "text/plain": [
       "array([[59, 47, 24, 66],\n",
       "       [83, 36, 91, 78],\n",
       "       [22, 79, 74, 90]], dtype=int32)"
      ]
     },
     "execution_count": 14,
     "metadata": {},
     "output_type": "execute_result"
    }
   ],
   "source": [
    "# Flip -> reverse\n",
    "\n",
    "a = np.random.randint(1, 100, 10)\n",
    "b = np.random.randint(1, 100, 12).reshape(3, 4)\n",
    "print(a)\n",
    "print(b)\n",
    "\n",
    "np.flip(a)\n",
    "np.flip(b) # row, col flip\n",
    "np.flip(b, axis = 0) # row flip\n",
    "np.flip(b, axis = 1) # col flip"
   ]
  },
  {
   "cell_type": "code",
   "execution_count": 15,
   "metadata": {},
   "outputs": [
    {
     "name": "stdout",
     "output_type": "stream",
     "text": [
      "[ 9 23 68 42 11 59 69 85 25 55]\n"
     ]
    },
    {
     "data": {
      "text/plain": [
       "array([100,  23, 300,  42,  11, 200,  69,  85,  25,  55], dtype=int32)"
      ]
     },
     "execution_count": 15,
     "metadata": {},
     "output_type": "execute_result"
    }
   ],
   "source": [
    "# Put -> replace specific element\n",
    "\n",
    "a = np.random.randint(1, 100, 10)\n",
    "print(a)\n",
    "\n",
    "np.put(a, [0, 5, 2], [100, 200, 300])\n",
    "a"
   ]
  },
  {
   "cell_type": "code",
   "execution_count": 16,
   "metadata": {},
   "outputs": [
    {
     "name": "stdout",
     "output_type": "stream",
     "text": [
      "[86 71 62 80 73 85 91  7  8 12]\n",
      "[[59 65 62 23]\n",
      " [64 34 94 19]\n",
      " [39  5 16 92]]\n"
     ]
    },
    {
     "data": {
      "text/plain": [
       "array([[64, 34, 94, 19],\n",
       "       [39,  5, 16, 92]], dtype=int32)"
      ]
     },
     "execution_count": 16,
     "metadata": {},
     "output_type": "execute_result"
    }
   ],
   "source": [
    "# Delete -> after delete return new array\n",
    "\n",
    "a = np.random.randint(1, 100, 10)\n",
    "b = np.random.randint(1, 100, 12).reshape(3, 4)\n",
    "print(a)\n",
    "print(b)\n",
    "\n",
    "np.delete(a, 0)\n",
    "np.delete(a, [0, 2, 3])\n",
    "np.delete(b, 0, axis = 0)"
   ]
  },
  {
   "cell_type": "code",
   "execution_count": 17,
   "metadata": {},
   "outputs": [
    {
     "name": "stderr",
     "output_type": "stream",
     "text": [
      "C:\\Users\\Asus\\AppData\\Local\\Temp\\ipykernel_10536\\1598237902.py:10: DeprecationWarning: `in1d` is deprecated. Use `np.isin` instead.\n",
      "  np.in1d(m, 2)\n"
     ]
    },
    {
     "data": {
      "text/plain": [
       "array([False,  True, False, False, False, False])"
      ]
     },
     "execution_count": 17,
     "metadata": {},
     "output_type": "execute_result"
    }
   ],
   "source": [
    "# Set function\n",
    "\n",
    "m = np.array([1, 2, 3, 4, 5, 6])\n",
    "n = np.array([3, 4, 5, 6, 7])\n",
    "\n",
    "np.union1d(m, n)\n",
    "np.intersect1d(m, n)\n",
    "np.setdiff1d(m, n) # element in m not n\n",
    "np.setxor1d(m, n) # remove common element\n",
    "np.in1d(m, 2)"
   ]
  },
  {
   "cell_type": "code",
   "execution_count": 18,
   "metadata": {},
   "outputs": [
    {
     "name": "stdout",
     "output_type": "stream",
     "text": [
      "[55 87 63 13 59  1 86 59 79 88 79 64 89 25 83 36 67 43 12 40]\n"
     ]
    },
    {
     "data": {
      "text/plain": [
       "array([55, 66, 63, 13, 59,  5, 66, 59, 66, 66, 66, 64, 66, 25, 66, 36, 66,\n",
       "       43, 12, 40], dtype=int32)"
      ]
     },
     "execution_count": 18,
     "metadata": {},
     "output_type": "execute_result"
    }
   ],
   "source": [
    "# Clip -> value in range\n",
    "\n",
    "b = np.random.randint(1, 100, 20)\n",
    "print(b)\n",
    "np.clip(b, a_min = 5, a_max = 66)"
   ]
  }
 ],
 "metadata": {
  "kernelspec": {
   "display_name": "Python 3",
   "language": "python",
   "name": "python3"
  },
  "language_info": {
   "codemirror_mode": {
    "name": "ipython",
    "version": 3
   },
   "file_extension": ".py",
   "mimetype": "text/x-python",
   "name": "python",
   "nbconvert_exporter": "python",
   "pygments_lexer": "ipython3",
   "version": "3.13.0"
  }
 },
 "nbformat": 4,
 "nbformat_minor": 2
}
