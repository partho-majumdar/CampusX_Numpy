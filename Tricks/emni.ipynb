{
 "cells": [
  {
   "cell_type": "code",
   "execution_count": 22,
   "metadata": {},
   "outputs": [],
   "source": [
    "import numpy as np # type: ignore"
   ]
  },
  {
   "cell_type": "code",
   "execution_count": 23,
   "metadata": {},
   "outputs": [
    {
     "name": "stdout",
     "output_type": "stream",
     "text": [
      "[[39  3 87 89]\n",
      " [82  3  9 78]\n",
      " [31 35 70 20]\n",
      " [69 72 96 38]\n",
      " [72 34 64 53]\n",
      " [85 66 67 12]]\n"
     ]
    },
    {
     "data": {
      "text/plain": [
       "array([[ 3, 39, 87, 89],\n",
       "       [ 3,  9, 78, 82],\n",
       "       [20, 31, 35, 70],\n",
       "       [38, 69, 72, 96],\n",
       "       [34, 53, 64, 72],\n",
       "       [12, 66, 67, 85]], dtype=int32)"
      ]
     },
     "execution_count": 23,
     "metadata": {},
     "output_type": "execute_result"
    }
   ],
   "source": [
    "# Sorting\n",
    "\n",
    "a = np.random.randint(1, 100, 15)\n",
    "b = np.random.randint(1, 100, 24).reshape(6, 4)\n",
    "\n",
    "np.sort(a) # sort in ascending\n",
    "np.sort(a)[::-1] # sort in descending\n",
    "\n",
    "np.sort(b) # row wise sorting\n",
    "print(b)\n",
    "np.sort(b, axis = 0) # row wise sorting \n",
    "np.sort(b, axis = 1) # col wise sorting "
   ]
  },
  {
   "cell_type": "code",
   "execution_count": 24,
   "metadata": {},
   "outputs": [
    {
     "name": "stdout",
     "output_type": "stream",
     "text": [
      "6\n"
     ]
    },
    {
     "data": {
      "text/plain": [
       "array([[23., 60., 17., 86.,  1.],\n",
       "       [25., 38., 90., 92.,  1.],\n",
       "       [51., 26.,  1., 38.,  1.],\n",
       "       [39., 84., 76., 48.,  1.],\n",
       "       [35., 91., 65., 96.,  1.],\n",
       "       [ 9., 12., 84., 22.,  1.]])"
      ]
     },
     "execution_count": 24,
     "metadata": {},
     "output_type": "execute_result"
    }
   ],
   "source": [
    "# Append\n",
    "\n",
    "a = np.random.randint(1, 100, 15)\n",
    "b = np.random.randint(1, 100, 24).reshape(6, 4)\n",
    "\n",
    "np.append(a, 202) # append 202 as last element in a \n",
    "print(b.shape[0])\n",
    "np.append(b, np.ones((b.shape[0], 1)), axis = 1) # append 1 in last col"
   ]
  },
  {
   "cell_type": "code",
   "execution_count": 25,
   "metadata": {},
   "outputs": [
    {
     "name": "stdout",
     "output_type": "stream",
     "text": [
      "[[0 1 2]\n",
      " [3 4 5]]\n",
      "[[ 6  7  8]\n",
      " [ 9 10 11]]\n"
     ]
    },
    {
     "data": {
      "text/plain": [
       "array([[ 0,  1,  2,  6,  7,  8],\n",
       "       [ 3,  4,  5,  9, 10, 11]])"
      ]
     },
     "execution_count": 25,
     "metadata": {},
     "output_type": "execute_result"
    }
   ],
   "source": [
    "# Concatenate\n",
    "\n",
    "a = np.arange(6).reshape(2, 3)\n",
    "b = np.arange(6, 12).reshape(2, 3)\n",
    "\n",
    "print(a)\n",
    "print(b)\n",
    "\n",
    "np.concatenate((a, b), axis = 0) # row wise -> vstack\n",
    "np.concatenate((a, b), axis = 1) # col wise -> hstack"
   ]
  },
  {
   "cell_type": "code",
   "execution_count": 26,
   "metadata": {},
   "outputs": [
    {
     "data": {
      "text/plain": [
       "array([1, 2, 3, 4, 5, 6, 7, 9])"
      ]
     },
     "execution_count": 26,
     "metadata": {},
     "output_type": "execute_result"
    }
   ],
   "source": [
    "# Unique item\n",
    "\n",
    "a = np.array([1, 2, 1, 2, 4, 5, 6, 5, 7, 9, 7, 3, 2])\n",
    "np.unique(a)"
   ]
  },
  {
   "cell_type": "code",
   "execution_count": 27,
   "metadata": {},
   "outputs": [
    {
     "name": "stdout",
     "output_type": "stream",
     "text": [
      "[[1 2]\n",
      " [3 4]\n",
      " [5 6]]\n",
      "\n",
      "\n",
      "[[[1 2]\n",
      "  [3 4]\n",
      "  [5 6]]]\n",
      "\n",
      "\n",
      "[[[1 2]]\n",
      "\n",
      " [[3 4]]\n",
      "\n",
      " [[5 6]]]\n"
     ]
    }
   ],
   "source": [
    "# Expand dimension\n",
    "\n",
    "a = np.arange(1, 7).reshape(3, 2)\n",
    "print(a)\n",
    "print('\\n')\n",
    "b = np.expand_dims(a, axis = 0)\n",
    "c = np.expand_dims(a, axis = 1)\n",
    "# print(a.shape, b.shape)\n",
    "\n",
    "print(b)\n",
    "print('\\n')\n",
    "print(c)"
   ]
  },
  {
   "cell_type": "code",
   "execution_count": 28,
   "metadata": {},
   "outputs": [
    {
     "data": {
      "text/plain": [
       "array([0, 0, 0, 1, 1, 1, 0, 1, 0, 1, 1, 1, 1, 0, 0, 1, 1, 0, 1, 0])"
      ]
     },
     "execution_count": 28,
     "metadata": {},
     "output_type": "execute_result"
    }
   ],
   "source": [
    "# Where value satisfy\n",
    "\n",
    "a = np.random.randint(1, 100, 20)\n",
    "np.where(a > 50) # return index only value > 50\n",
    "np.where(a > 50, 0, 1) # replace 0 where true and replace 1 where false"
   ]
  },
  {
   "cell_type": "code",
   "execution_count": 29,
   "metadata": {},
   "outputs": [
    {
     "name": "stdout",
     "output_type": "stream",
     "text": [
      "[12 90 90 27 40 93 17 84 76 48]\n",
      "[[31 23 73 11]\n",
      " [ 1 91 17 47]\n",
      " [24 21 28 99]]\n"
     ]
    },
    {
     "data": {
      "text/plain": [
       "array([3, 0, 1])"
      ]
     },
     "execution_count": 29,
     "metadata": {},
     "output_type": "execute_result"
    }
   ],
   "source": [
    "# Argmax / Argmin -> return max/min value index\n",
    "\n",
    "a = np.random.randint(1, 100, 10)\n",
    "b = np.random.randint(1, 100, 12).reshape(3, 4)\n",
    "print(a)\n",
    "print(b)\n",
    "np.argmax(a) # max value index\n",
    "np.argmin(a) # min value index\n",
    "\n",
    "np.argmax(b, axis = 0)\n",
    "np.argmin(b, axis = 1)"
   ]
  },
  {
   "cell_type": "code",
   "execution_count": 30,
   "metadata": {},
   "outputs": [
    {
     "name": "stdout",
     "output_type": "stream",
     "text": [
      "[96 54 95 28 26 62 25 35 60 31]\n",
      "[[43 92 69 32]\n",
      " [ 6 96 79 90]\n",
      " [61 12 64 97]]\n"
     ]
    },
    {
     "data": {
      "text/plain": [
       "array([[     43,    3956,  272964, 8734848],\n",
       "       [      6,     576,   45504, 4095360],\n",
       "       [     61,     732,   46848, 4544256]])"
      ]
     },
     "execution_count": 30,
     "metadata": {},
     "output_type": "execute_result"
    }
   ],
   "source": [
    "# Cumsum & Cumprod -> sum of previous all\n",
    "\n",
    "a = np.random.randint(1, 100, 10)\n",
    "b = np.random.randint(1, 100, 12).reshape(3, 4)\n",
    "print(a)\n",
    "print(b)\n",
    "\n",
    "np.cumsum(a)\n",
    "np.cumprod(a)\n",
    "\n",
    "np.cumsum(b, axis = 0) # row\n",
    "np.cumprod(b, axis = 1) # col"
   ]
  },
  {
   "cell_type": "code",
   "execution_count": 31,
   "metadata": {},
   "outputs": [
    {
     "name": "stdout",
     "output_type": "stream",
     "text": [
      "[51 56 63 16 49 38 56 31 27 25]\n",
      "[16 25 27 31 38 49 51 56 56 63]\n"
     ]
    },
    {
     "data": {
      "text/plain": [
       "np.float64(63.0)"
      ]
     },
     "execution_count": 31,
     "metadata": {},
     "output_type": "execute_result"
    }
   ],
   "source": [
    "# Percentile -> how many % people behind me\n",
    "\n",
    "a = np.random.randint(1, 100, 10)\n",
    "print(a)\n",
    "\n",
    "print(np.sort(a))\n",
    "np.percentile(a, 0) # min\n",
    "np.percentile(a, 50) # mid\n",
    "np.percentile(a, 100) # max"
   ]
  },
  {
   "cell_type": "code",
   "execution_count": 32,
   "metadata": {},
   "outputs": [
    {
     "name": "stdout",
     "output_type": "stream",
     "text": [
      "[47 51 68 38  3 76 58 91 16 61 64 59 56 54  3 67  2 56 57 19 43 17 38 62\n",
      " 23 47 86 27 34 45 56 10 42 51 25 23 17 67 94 18 96 78 83 42 51 17 95 11\n",
      " 72 86]\n"
     ]
    },
    {
     "data": {
      "text/plain": [
       "(array([ 3,  8,  4,  3,  6, 10,  6,  3,  3,  4]),\n",
       " array([  0,  10,  20,  30,  40,  50,  60,  70,  80,  90, 100]))"
      ]
     },
     "execution_count": 32,
     "metadata": {},
     "output_type": "execute_result"
    }
   ],
   "source": [
    "# Histogram -> frequency count in given range (bins)\n",
    "    \n",
    "a = np.random.randint(1, 100, 50)\n",
    "print(a)\n",
    "np.histogram(a, bins = [0, 10, 20, 30, 40, 50, 60, 70, 80, 90, 100])"
   ]
  },
  {
   "cell_type": "code",
   "execution_count": 33,
   "metadata": {},
   "outputs": [
    {
     "data": {
      "text/plain": [
       "array([[1.        , 0.25344572],\n",
       "       [0.25344572, 1.        ]])"
      ]
     },
     "execution_count": 33,
     "metadata": {},
     "output_type": "execute_result"
    }
   ],
   "source": [
    "# Corelation (ans lie in -1 to 1) & Coefficient\n",
    "\n",
    "salary = np.array([20000, 40000, 25000, 35000, 60000])\n",
    "experience = np.array([1, 3, 2, 4, 2])\n",
    "\n",
    "np.corrcoef(salary, experience)"
   ]
  },
  {
   "cell_type": "code",
   "execution_count": 34,
   "metadata": {},
   "outputs": [
    {
     "name": "stdout",
     "output_type": "stream",
     "text": [
      "[ 5 23 45 87 69 53 41 53 66 80 40 65 67  3 25 90 87 92 92 26]\n",
      "[10 20 30 40 50 60 70]\n"
     ]
    },
    {
     "data": {
      "text/plain": [
       "array([40], dtype=int32)"
      ]
     },
     "execution_count": 34,
     "metadata": {},
     "output_type": "execute_result"
    }
   ],
   "source": [
    "# Isin -> search for multiple item\n",
    "\n",
    "a = np.random.randint(1, 100, 20);\n",
    "items = np.array([10, 20, 30, 40, 50, 60, 70])\n",
    "\n",
    "print(a)\n",
    "print(items)\n",
    "np.isin(a, items)\n",
    "a[np.isin(a, items)]"
   ]
  },
  {
   "cell_type": "code",
   "execution_count": 35,
   "metadata": {},
   "outputs": [
    {
     "name": "stdout",
     "output_type": "stream",
     "text": [
      "[72 86 91 71 92 65 89  4 28 67]\n",
      "[[80 27 45 27]\n",
      " [90 78 44 60]\n",
      " [40 60 71 63]]\n"
     ]
    },
    {
     "data": {
      "text/plain": [
       "array([[27, 45, 27, 80],\n",
       "       [60, 44, 78, 90],\n",
       "       [63, 71, 60, 40]], dtype=int32)"
      ]
     },
     "execution_count": 35,
     "metadata": {},
     "output_type": "execute_result"
    }
   ],
   "source": [
    "# Flip -> reverse\n",
    "\n",
    "a = np.random.randint(1, 100, 10)\n",
    "b = np.random.randint(1, 100, 12).reshape(3, 4)\n",
    "print(a)\n",
    "print(b)\n",
    "\n",
    "np.flip(a)\n",
    "np.flip(b) # row, col flip\n",
    "np.flip(b, axis = 0) # row flip\n",
    "np.flip(b, axis = 1) # col flip"
   ]
  },
  {
   "cell_type": "code",
   "execution_count": 36,
   "metadata": {},
   "outputs": [
    {
     "name": "stdout",
     "output_type": "stream",
     "text": [
      "[62 59 52 28 35 97 64 24 47 34]\n"
     ]
    },
    {
     "data": {
      "text/plain": [
       "array([100,  59, 300,  28,  35, 200,  64,  24,  47,  34], dtype=int32)"
      ]
     },
     "execution_count": 36,
     "metadata": {},
     "output_type": "execute_result"
    }
   ],
   "source": [
    "# Put -> replace specific element\n",
    "\n",
    "a = np.random.randint(1, 100, 10)\n",
    "print(a)\n",
    "\n",
    "np.put(a, [0, 5, 2], [100, 200, 300])\n",
    "a"
   ]
  },
  {
   "cell_type": "code",
   "execution_count": 37,
   "metadata": {},
   "outputs": [
    {
     "name": "stdout",
     "output_type": "stream",
     "text": [
      "[ 5 88 78 37 54 81 46 47 72 18]\n",
      "[[93 80 54 13]\n",
      " [92 16 84 86]\n",
      " [53 53 64 91]]\n"
     ]
    },
    {
     "data": {
      "text/plain": [
       "array([[92, 16, 84, 86],\n",
       "       [53, 53, 64, 91]], dtype=int32)"
      ]
     },
     "execution_count": 37,
     "metadata": {},
     "output_type": "execute_result"
    }
   ],
   "source": [
    "# Delete -> after delete return new array\n",
    "\n",
    "a = np.random.randint(1, 100, 10)\n",
    "b = np.random.randint(1, 100, 12).reshape(3, 4)\n",
    "print(a)\n",
    "print(b)\n",
    "\n",
    "np.delete(a, 0)\n",
    "np.delete(a, [0, 2, 3])\n",
    "np.delete(b, 0, axis = 0)"
   ]
  },
  {
   "cell_type": "code",
   "execution_count": 38,
   "metadata": {},
   "outputs": [
    {
     "name": "stderr",
     "output_type": "stream",
     "text": [
      "C:\\Users\\Asus\\AppData\\Local\\Temp\\ipykernel_11764\\1598237902.py:10: DeprecationWarning: `in1d` is deprecated. Use `np.isin` instead.\n",
      "  np.in1d(m, 2)\n"
     ]
    },
    {
     "data": {
      "text/plain": [
       "array([False,  True, False, False, False, False])"
      ]
     },
     "execution_count": 38,
     "metadata": {},
     "output_type": "execute_result"
    }
   ],
   "source": [
    "# Set function\n",
    "\n",
    "m = np.array([1, 2, 3, 4, 5, 6])\n",
    "n = np.array([3, 4, 5, 6, 7])\n",
    "\n",
    "np.union1d(m, n)\n",
    "np.intersect1d(m, n)\n",
    "np.setdiff1d(m, n) # element in m not n\n",
    "np.setxor1d(m, n) # remove common element\n",
    "np.in1d(m, 2)"
   ]
  },
  {
   "cell_type": "code",
   "execution_count": 39,
   "metadata": {},
   "outputs": [
    {
     "name": "stdout",
     "output_type": "stream",
     "text": [
      "[42 60 10 81 69 25 35 61 14 69 79 76 65 50 18 69 15 54 39 70]\n"
     ]
    },
    {
     "data": {
      "text/plain": [
       "array([42, 60, 10, 66, 66, 25, 35, 61, 14, 66, 66, 66, 65, 50, 18, 66, 15,\n",
       "       54, 39, 66], dtype=int32)"
      ]
     },
     "execution_count": 39,
     "metadata": {},
     "output_type": "execute_result"
    }
   ],
   "source": [
    "# Clip -> value in range\n",
    "\n",
    "b = np.random.randint(1, 100, 20)\n",
    "print(b)\n",
    "np.clip(b, a_min = 5, a_max = 66)"
   ]
  }
 ],
 "metadata": {
  "kernelspec": {
   "display_name": "Python 3",
   "language": "python",
   "name": "python3"
  },
  "language_info": {
   "codemirror_mode": {
    "name": "ipython",
    "version": 3
   },
   "file_extension": ".py",
   "mimetype": "text/x-python",
   "name": "python",
   "nbconvert_exporter": "python",
   "pygments_lexer": "ipython3",
   "version": "3.12.5"
  }
 },
 "nbformat": 4,
 "nbformat_minor": 2
}
